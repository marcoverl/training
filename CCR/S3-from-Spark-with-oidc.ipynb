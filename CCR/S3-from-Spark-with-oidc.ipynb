{
 "cells": [
  {
   "cell_type": "code",
   "execution_count": null,
   "metadata": {},
   "outputs": [],
   "source": [
    "!pip install liboidcagent requests xmltodict pandas"
   ]
  },
  {
   "cell_type": "code",
   "execution_count": null,
   "metadata": {},
   "outputs": [],
   "source": [
    "!eval `oidc-keychain` > /dev/null && oidc-token dodas --time=36000 > /tmp/token\n",
    "with open('/tmp/token') as f:\n",
    "    token = f.readlines()[0].split(\"\\n\")[0]"
   ]
  },
  {
   "cell_type": "code",
   "execution_count": null,
   "metadata": {},
   "outputs": [],
   "source": [
    "import requests\n",
    "import xmltodict\n",
    "r = requests.post(\"https://minio.cloud.infn.it\",\n",
    "                  data={\n",
    "                      'Action':\n",
    "                      \"AssumeRoleWithWebIdentity\",\n",
    "                      'Version': \"2011-06-15\",\n",
    "                      'WebIdentityToken': token,\n",
    "                      'DurationSeconds': 9000\n",
    "                  },\n",
    "                  verify=False)\n",
    "\n",
    "#print(r.status_code, r.reason)\n",
    "tree = xmltodict.parse(r.content)\n",
    "\n",
    "credentials = dict(tree['AssumeRoleWithWebIdentityResponse']\n",
    "                    ['AssumeRoleWithWebIdentityResult']['Credentials'])"
   ]
  },
  {
   "cell_type": "code",
   "execution_count": null,
   "metadata": {},
   "outputs": [],
   "source": [
    "from pyspark import SparkConf, SparkContext\n",
    "conf = (SparkConf()\n",
    "         .setMaster(\"k8s://https://kubernetes:443\")\n",
    "         .setAppName(\"MyApp\")\n",
    "         .set(\"spark.executor.memory\", \"1g\")\n",
    "         .set(\"spark.executor.instances\", \"2\")\n",
    "         .set(\"spark.kubernetes.container.image\", \"dodasts/spark:v3.0.1\")\n",
    "# configure S3 access  \n",
    "         .set(\"spark.hadoop.fs.s3a.endpoint\", \"https://minio.cloud.infn.it\")\n",
    "         .set(\"spark.hadoop.fs.s3a.aws.credentials.provider\",\"org.apache.hadoop.fs.s3a.TemporaryAWSCredentialsProvider\")\n",
    "         .set(\"spark.hadoop.fs.s3a.access.key\", credentials[\"AccessKeyId\"])\n",
    "         .set(\"spark.hadoop.fs.s3a.secret.key\", credentials[\"SecretAccessKey\"]) \n",
    "         .set(\"spark.hadoop.fs.s3a.session.token\", credentials[\"SessionToken\"])\n",
    "         .set(\"spark.hadoop.fs.s3a.path.style.access\",\"true\")\n",
    "         .set(\"spark.hadoop.fs.s3a.fast.upload\", \"true\")\n",
    "         .set(\"spark.hadoop.fs.s3a.impl\", \"org.apache.hadoop.fs.s3a.S3AFileSystem\")\n",
    "         .set(\"spark.hadoop.fs.s3a.committer.name\", \"directory\")\n",
    "       )\n",
    "\n",
    "sc = SparkContext(conf = conf)\n",
    "sc"
   ]
  },
  {
   "cell_type": "code",
   "execution_count": null,
   "metadata": {},
   "outputs": [],
   "source": [
    "from pyspark.sql import SparkSession\n",
    "spark = SparkSession(sc)\n",
    "# read the CSV with some options         \n",
    "csv_df = spark.read.options(header='True',inferSchema='True').csv(\"s3a://scratch/verlato/dpc-covid19-ita-regioni.csv\")\n",
    "csv_df.printSchema()\n",
    "csv_df.toPandas()"
   ]
  },
  {
   "cell_type": "code",
   "execution_count": null,
   "metadata": {},
   "outputs": [],
   "source": []
  }
 ],
 "metadata": {
  "kernelspec": {
   "display_name": "Python 3",
   "language": "python",
   "name": "python3"
  },
  "language_info": {
   "codemirror_mode": {
    "name": "ipython",
    "version": 3
   },
   "file_extension": ".py",
   "mimetype": "text/x-python",
   "name": "python",
   "nbconvert_exporter": "python",
   "pygments_lexer": "ipython3",
   "version": "3.8.5"
  }
 },
 "nbformat": 4,
 "nbformat_minor": 4
}
