{
 "cells": [
  {
   "cell_type": "code",
   "execution_count": null,
   "metadata": {},
   "outputs": [],
   "source": [
    "!pip install liboidcagent requests xmltodict pandas boto3"
   ]
  },
  {
   "cell_type": "code",
   "execution_count": null,
   "metadata": {},
   "outputs": [],
   "source": [
    "!eval `oidc-keychain` > /dev/null && oidc-token dodas --time=3600 > /tmp/token\n",
    "with open('/tmp/token') as f:\n",
    "    token = f.readlines()[0].split(\"\\n\")[0]"
   ]
  },
  {
   "cell_type": "code",
   "execution_count": null,
   "metadata": {},
   "outputs": [],
   "source": [
    "import requests\n",
    "import xmltodict\n",
    "r = requests.post(\"https://minio.cloud.infn.it\",\n",
    "                  data={\n",
    "                      'Action':\n",
    "                      \"AssumeRoleWithWebIdentity\",\n",
    "                      'Version': \"2011-06-15\",\n",
    "                      'WebIdentityToken': token,\n",
    "                      'DurationSeconds': 9000\n",
    "                  },\n",
    "                  verify=True)\n",
    "\n",
    "tree = xmltodict.parse(r.content)\n",
    "\n",
    "credentials = dict(tree['AssumeRoleWithWebIdentityResponse']\n",
    "                    ['AssumeRoleWithWebIdentityResult']['Credentials'])"
   ]
  },
  {
   "cell_type": "code",
   "execution_count": null,
   "metadata": {},
   "outputs": [],
   "source": [
    "# Read CSV\n",
    "import pandas as pd\n",
    "import boto3\n",
    "s3 = boto3.client('s3',endpoint_url=\"https://minio.cloud.infn.it\",aws_access_key_id=credentials[\"AccessKeyId\"],\n",
    "                  aws_secret_access_key=credentials[\"SecretAccessKey\"],\n",
    "                  aws_session_token=credentials[\"SessionToken\"],\n",
    "                  config=boto3.session.Config(signature_version='s3v4'),\n",
    "                 verify=True)\n",
    "\n",
    "read_file = s3.get_object(Bucket='scratch', Key='verlato/dpc-covid19-ita-regioni.csv')\n",
    "df = pd.read_csv(read_file['Body'],sep=',')\n",
    "df"
   ]
  },
  {
   "cell_type": "code",
   "execution_count": null,
   "metadata": {},
   "outputs": [],
   "source": []
  }
 ],
 "metadata": {
  "kernelspec": {
   "display_name": "Python 3",
   "language": "python",
   "name": "python3"
  },
  "language_info": {
   "codemirror_mode": {
    "name": "ipython",
    "version": 3
   },
   "file_extension": ".py",
   "mimetype": "text/x-python",
   "name": "python",
   "nbconvert_exporter": "python",
   "pygments_lexer": "ipython3",
   "version": "3.8.5"
  }
 },
 "nbformat": 4,
 "nbformat_minor": 4
}
